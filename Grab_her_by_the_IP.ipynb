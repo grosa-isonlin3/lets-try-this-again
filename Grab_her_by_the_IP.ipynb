{
  "nbformat": 4,
  "nbformat_minor": 0,
  "metadata": {
    "colab": {
      "provenance": [],
      "authorship_tag": "ABX9TyMq7KSEtqWX3RxHelyeTrYO",
      "include_colab_link": true
    },
    "kernelspec": {
      "name": "python3",
      "display_name": "Python 3"
    },
    "language_info": {
      "name": "python"
    }
  },
  "cells": [
    {
      "cell_type": "markdown",
      "metadata": {
        "id": "view-in-github",
        "colab_type": "text"
      },
      "source": [
        "<a href=\"https://colab.research.google.com/github/grosa-isonlin3/lets-try-this-again/blob/main/Grab_her_by_the_IP.ipynb\" target=\"_parent\"><img src=\"https://colab.research.google.com/assets/colab-badge.svg\" alt=\"Open In Colab\"/></a>"
      ]
    },
    {
      "cell_type": "markdown",
      "source": [
        "For my own IP Address"
      ],
      "metadata": {
        "id": "5R1IddY8eYcZ"
      }
    },
    {
      "cell_type": "code",
      "execution_count": 2,
      "metadata": {
        "id": "ss_GhF3p2FYX",
        "colab": {
          "base_uri": "https://localhost:8080/"
        },
        "outputId": "25860821-e508-4e2a-b17f-8c712b95b336"
      },
      "outputs": [
        {
          "output_type": "stream",
          "name": "stdout",
          "text": [
            "Hostname: 9f08e16eec3c\n",
            "My IP Address is: 172.28.0.12\n"
          ]
        }
      ],
      "source": [
        "import socket\n",
        "hostname = socket.gethostname()\n",
        "ip_address = socket.gethostbyname(hostname)\n",
        "print(f\"Hostname: {hostname}\")\n",
        "print(f\"My IP Address is: {ip_address}\")"
      ]
    },
    {
      "cell_type": "markdown",
      "source": [
        "IP Grabber and Discord Webhooks"
      ],
      "metadata": {
        "id": "GTcIAATmedc3"
      }
    },
    {
      "cell_type": "code",
      "source": [
        "from flask import Flask, request, redirect\n",
        "from datetime import datetime\n",
        "import requests\n",
        "\n",
        "app = Flask(__name__)\n",
        "@app.route(\"/\")\n",
        "def index():\n",
        "    ip = request.environ.get(\"HTTP_X_FORWARD_FOR\", rquest.remote_addr)\n",
        "    date = datetime.today().strftime(\"%Y-%m-%d %H:%M%S\")\n",
        "\n",
        "    return \"hello world\"\n",
        "\n",
        "\n",
        "\n",
        "  if __name__ == \"__main__\":\n",
        "    app.run(host= '0.0.0.0')"
      ],
      "metadata": {
        "colab": {
          "base_uri": "https://localhost:8080/",
          "height": 106
        },
        "id": "ixVcNjv-eXKh",
        "outputId": "2db8dd7b-3a4a-4abe-fb83-d2c1e00eef84"
      },
      "execution_count": 4,
      "outputs": [
        {
          "output_type": "error",
          "ename": "IndentationError",
          "evalue": "unindent does not match any outer indentation level (<tokenize>, line 15)",
          "traceback": [
            "\u001b[0;36m  File \u001b[0;32m\"<tokenize>\"\u001b[0;36m, line \u001b[0;32m15\u001b[0m\n\u001b[0;31m    if __name__ == \"__main__\":\u001b[0m\n\u001b[0m    ^\u001b[0m\n\u001b[0;31mIndentationError\u001b[0m\u001b[0;31m:\u001b[0m unindent does not match any outer indentation level\n"
          ]
        }
      ]
    }
  ]
}